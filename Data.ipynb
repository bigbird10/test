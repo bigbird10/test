{
 "cells": [
  {
   "cell_type": "code",
   "execution_count": 2,
   "metadata": {},
   "outputs": [],
   "source": [
    "%matplotlib inline\n",
    "import matplotlib.pyplot as plt\n",
    "import pandas as pd\n",
    "import numpy as np\n",
    "import math\n",
    "from sklearn import datasets,linear_model,neighbors,metrics,utils\n",
    "import os\n",
    "#from datetime import datetime,timezone\n",
    "#import pytz"
   ]
  },
  {
   "cell_type": "code",
   "execution_count": 3,
   "metadata": {},
   "outputs": [],
   "source": [
    "directories   = ['activity','audio','bluetooth','conversation','dark','gps','phonecharge','phonelock','wifi','wifi_location']\n",
    "\n",
    "data = {}\n",
    "\n",
    "for label in directories:\n",
    "    dirname =\"Inputs/sensing/\"+label\n",
    "    directory = os.fsencode(dirname)\n",
    "    data[label] = {}\n",
    "    for file in os.listdir(directory):\n",
    "         filename = os.fsdecode(file)\n",
    "         if filename.endswith(\".csv\"): \n",
    "            df = pd.read_csv(dirname+'/'+filename,index_col=False)\n",
    "            data[label][filename.split(\"_\")[1].split('.')[0]] = df\n",
    "\n",
    "panas       = pd.read_csv(\"Outputs/panas.csv\",index_col=0)\n",
    "flourishing = pd.read_csv(\"Outputs/FlourishingScale.csv\",index_col=0)"
   ]
  },
  {
   "cell_type": "code",
   "execution_count": 4,
   "metadata": {},
   "outputs": [],
   "source": [
    "#panas.head() #missing excited, ashamed\n",
    "flourishing_pre  = flourishing.loc[flourishing['type'] == 'pre'].drop('type',axis=1)\n",
    "flourishing_post = flourishing.loc[flourishing['type'] == 'post'].drop('type',axis=1)\n",
    "\n",
    "panas_pre  = panas.loc[panas['type'] == 'pre'].drop('type',axis=1)\n",
    "panas_post = panas.loc[panas['type'] == 'post'].drop('type',axis=1)"
   ]
  },
  {
   "cell_type": "code",
   "execution_count": 5,
   "metadata": {},
   "outputs": [],
   "source": [
    "#replace NaN with median value\n",
    "panas_pre        = panas_pre.fillna(panas_pre.median()) # 46 rows\n",
    "panas_post       = panas_post.fillna(panas_post.median()) # 39 rows\n",
    "flourishing_pre  = flourishing_pre.fillna(flourishing_pre.median()) \n",
    "flourishing_post = flourishing_post.fillna(flourishing_post.median()) "
   ]
  },
  {
   "cell_type": "code",
   "execution_count": 6,
   "metadata": {},
   "outputs": [],
   "source": [
    "panas_idx = panas_pre.index.intersection(panas_post.index) # 38 common indexes\n",
    "flourishing_idx = flourishing_pre.index.intersection(flourishing_post.index) # 37 common indexes\n",
    "\n",
    "panas_pre           = panas_pre.loc[panas_idx]\n",
    "panas_post          = panas_post.loc[panas_idx]\n",
    "flourishing_pre     = flourishing_pre.loc[flourishing_idx]\n",
    "flourishing_post    = flourishing_post.loc[flourishing_idx]"
   ]
  },
  {
   "cell_type": "code",
   "execution_count": 8,
   "metadata": {},
   "outputs": [],
   "source": [
    "#PANAS\n",
    "AVE_POS = 33.3\n",
    "AVE_NEG = 17.4\n",
    "PANAS_LEN = len(panas_idx)\n",
    "#positive pre & post\n",
    "pre_pos  = panas_pre[['Interested','Strong','Enthusiastic','Proud','Alert','Inspired','Determined ','Attentive','Active ']].sum(axis=1)\n",
    "pre_pos = np.where(pre_pos > AVE_POS, 'high', 'low') \n",
    "post_pos = panas_post[['Interested','Strong','Enthusiastic','Proud','Alert','Inspired','Determined ','Attentive','Active ']].sum(axis=1)\n",
    "post_pos = np.where(post_pos > AVE_POS, 'high', 'low') \n",
    "#negative pre & post\n",
    "pre_neg    = panas_pre[['Distressed','Upset','Guilty','Scared','Hostile ','Irritable','Nervous','Jittery','Afraid ']].sum(axis=1)\n",
    "pre_neg    = np.where(pre_neg > AVE_NEG, 'high', 'low') \n",
    "post_neg   = panas_post[['Distressed','Upset','Guilty','Scared','Hostile ','Irritable','Nervous','Jittery','Afraid ']].sum(axis=1)\n",
    "post_neg   = np.where(post_neg > AVE_NEG, 'high', 'low') \n",
    "\n",
    "y = pd.DataFrame(index=panas_idx)\n",
    "y['pre_pos'] = pre_pos\n",
    "y['post_pos'] = post_pos\n",
    "y['pre_neg'] = pre_neg\n",
    "y['post_neg'] = post_neg\n",
    "#print(y)\n",
    "#print(len(y))\n",
    "# 大于平均值 = high"
   ]
  },
  {
   "cell_type": "code",
   "execution_count": 59,
   "metadata": {},
   "outputs": [
    {
     "data": {
      "text/plain": [
       "72"
      ]
     },
     "execution_count": 59,
     "metadata": {},
     "output_type": "execute_result"
    }
   ],
   "source": [
    "count = segment.groupby(' activity inference').count()\n",
    "count.loc[0]['timestamp']"
   ]
  },
  {
   "cell_type": "code",
   "execution_count": 158,
   "metadata": {},
   "outputs": [],
   "source": [
    "FIFTEEN_MIN = 15*60\n",
    "#day = 24*60*60\n",
    "\n",
    "#FIND FIRST AND LAST TIMESTAMP\n",
    "minTime = data['activity']['u01']['timestamp'][0]\n",
    "maxTime = data['activity']['u01']['timestamp'][len(data['activity']['u01']['timestamp'])-1]\n",
    "for user in panas_idx:\n",
    "    if data['activity'][user]['timestamp'][0] < minTime:\n",
    "        minTime = data['activity'][user]['timestamp'][0]\n",
    "    if data['audio'][user]['timestamp'][len(data['audio'][user]['timestamp'])-1] > maxTime:\n",
    "        maxTime = data['audio'][user]['timestamp'][len(data['audio'][user]['timestamp'])-1]"
   ]
  },
  {
   "cell_type": "code",
   "execution_count": 223,
   "metadata": {},
   "outputs": [
    {
     "name": "stdout",
     "output_type": "stream",
     "text": [
      "     1364356800  1364357700  1364358600  1364359500  1364360400  1364361300  \\\n",
      "uid                                                                           \n",
      "u00          -1          -1          -1          -1          -1          -1   \n",
      "u01          -1          -1          -1          -1          -1          -1   \n",
      "u02           0           0           0           0           0           0   \n",
      "u03          -1          -1          -1          -1          -1          -1   \n",
      "u04          -1          -1          -1          -1          -1          -1   \n",
      "u05          -1          -1          -1          -1          -1          -1   \n",
      "u07          -1          -1          -1          -1          -1          -1   \n",
      "u09          -1          -1          -1          -1          -1          -1   \n",
      "u10          -1          -1          -1          -1          -1          -1   \n",
      "u14          -1          -1          -1          -1          -1          -1   \n",
      "u15          -1          -1          -1          -1          -1          -1   \n",
      "u16          -1          -1          -1          -1          -1          -1   \n",
      "u17          -1          -1          -1          -1          -1          -1   \n",
      "u18          -1          -1          -1          -1          -1          -1   \n",
      "u19          -1          -1          -1          -1          -1          -1   \n",
      "u20          -1          -1          -1          -1          -1          -1   \n",
      "u23          -1          -1          -1          -1          -1          -1   \n",
      "u24          -1          -1          -1          -1          -1          -1   \n",
      "u27          -1          -1          -1          -1          -1          -1   \n",
      "u30          -1          -1          -1          -1          -1          -1   \n",
      "u31          -1          -1          -1          -1          -1          -1   \n",
      "u32          -1          -1          -1          -1          -1          -1   \n",
      "u33          -1          -1          -1          -1          -1          -1   \n",
      "u34          -1          -1          -1          -1          -1          -1   \n",
      "u35          -1          -1          -1          -1          -1          -1   \n",
      "u36          -1          -1          -1          -1          -1          -1   \n",
      "u42          -1          -1          -1          -1          -1          -1   \n",
      "u43          -1          -1          -1          -1          -1          -1   \n",
      "u44          -1          -1          -1          -1          -1          -1   \n",
      "u45          -1          -1          -1          -1          -1          -1   \n",
      "u46          -1          -1          -1          -1          -1          -1   \n",
      "u47          -1          -1          -1          -1          -1          -1   \n",
      "u49          -1          -1          -1          -1          -1          -1   \n",
      "u51          -1          -1          -1          -1          -1          -1   \n",
      "u52          -1          -1          -1          -1          -1          -1   \n",
      "u53          -1          -1          -1          -1          -1          -1   \n",
      "u56          -1          -1          -1          -1          -1          -1   \n",
      "u59          -1          -1          -1          -1          -1          -1   \n",
      "\n",
      "     1364362200  1364363100  1364364000  1364364900     ...      1365705000  \\\n",
      "uid                                                     ...                   \n",
      "u00          -1          -1          -1          -1     ...              -1   \n",
      "u01          -1          -1          -1          -1     ...              -1   \n",
      "u02           0           0           0           0     ...               0   \n",
      "u03          -1          -1          -1          -1     ...              -1   \n",
      "u04          -1          -1          -1          -1     ...              -1   \n",
      "u05          -1          -1          -1          -1     ...              -1   \n",
      "u07          -1          -1          -1          -1     ...              -1   \n",
      "u09          -1          -1          -1          -1     ...              -1   \n",
      "u10          -1          -1          -1          -1     ...              -1   \n",
      "u14          -1          -1          -1          -1     ...              -1   \n",
      "u15          -1          -1          -1          -1     ...              -1   \n",
      "u16          -1          -1          -1          -1     ...              -1   \n",
      "u17          -1          -1          -1          -1     ...              -1   \n",
      "u18          -1          -1          -1          -1     ...              -1   \n",
      "u19          -1          -1          -1          -1     ...              -1   \n",
      "u20          -1          -1          -1          -1     ...              -1   \n",
      "u23          -1          -1          -1          -1     ...              -1   \n",
      "u24          -1          -1          -1          -1     ...              -1   \n",
      "u27          -1          -1          -1          -1     ...              -1   \n",
      "u30          -1          -1          -1          -1     ...              -1   \n",
      "u31          -1          -1          -1          -1     ...              -1   \n",
      "u32          -1          -1          -1          -1     ...              -1   \n",
      "u33          -1          -1          -1          -1     ...              -1   \n",
      "u34          -1          -1          -1          -1     ...              -1   \n",
      "u35          -1          -1          -1          -1     ...              -1   \n",
      "u36          -1          -1          -1          -1     ...              -1   \n",
      "u42          -1          -1          -1          -1     ...              -1   \n",
      "u43          -1          -1          -1          -1     ...              -1   \n",
      "u44          -1          -1          -1          -1     ...              -1   \n",
      "u45          -1          -1          -1          -1     ...              -1   \n",
      "u46          -1          -1          -1          -1     ...              -1   \n",
      "u47          -1          -1          -1          -1     ...              -1   \n",
      "u49          -1          -1          -1          -1     ...              -1   \n",
      "u51          -1          -1          -1          -1     ...              -1   \n",
      "u52          -1          -1          -1          -1     ...              -1   \n",
      "u53          -1          -1          -1          -1     ...              -1   \n",
      "u56          -1          -1          -1          -1     ...              -1   \n",
      "u59          -1          -1          -1          -1     ...              -1   \n",
      "\n",
      "     1365705900  1365706800  1365707700  1365708600  1365709500  1365710400  \\\n",
      "uid                                                                           \n",
      "u00          -1          -1          -1          -1          -1          -1   \n",
      "u01          -1          -1          -1          -1          -1          -1   \n",
      "u02           0           0           1           0           0           0   \n",
      "u03          -1          -1          -1          -1          -1          -1   \n",
      "u04          -1          -1          -1          -1          -1          -1   \n",
      "u05          -1          -1          -1          -1          -1          -1   \n",
      "u07          -1          -1          -1          -1          -1          -1   \n",
      "u09          -1          -1          -1          -1          -1          -1   \n",
      "u10          -1          -1          -1          -1          -1          -1   \n",
      "u14          -1          -1          -1          -1          -1          -1   \n",
      "u15          -1          -1          -1          -1          -1          -1   \n",
      "u16          -1          -1          -1          -1          -1          -1   \n",
      "u17          -1          -1          -1          -1          -1          -1   \n",
      "u18          -1          -1          -1          -1          -1          -1   \n",
      "u19          -1          -1          -1          -1          -1          -1   \n",
      "u20          -1          -1          -1          -1          -1          -1   \n",
      "u23          -1          -1          -1          -1          -1          -1   \n",
      "u24          -1          -1          -1          -1          -1          -1   \n",
      "u27          -1          -1          -1          -1          -1          -1   \n",
      "u30          -1          -1          -1          -1          -1          -1   \n",
      "u31          -1          -1          -1          -1          -1          -1   \n",
      "u32          -1          -1          -1          -1          -1          -1   \n",
      "u33          -1          -1          -1          -1          -1          -1   \n",
      "u34          -1          -1          -1          -1          -1          -1   \n",
      "u35          -1          -1          -1          -1          -1          -1   \n",
      "u36          -1          -1          -1          -1          -1          -1   \n",
      "u42          -1          -1          -1          -1          -1          -1   \n",
      "u43          -1          -1          -1          -1          -1          -1   \n",
      "u44          -1          -1          -1          -1          -1          -1   \n",
      "u45          -1          -1          -1          -1          -1          -1   \n",
      "u46          -1          -1          -1          -1          -1          -1   \n",
      "u47          -1          -1          -1          -1          -1          -1   \n",
      "u49          -1          -1          -1          -1          -1          -1   \n",
      "u51          -1          -1          -1          -1          -1          -1   \n",
      "u52          -1          -1          -1          -1          -1          -1   \n",
      "u53          -1          -1          -1          -1          -1          -1   \n",
      "u56          -1          -1          -1          -1          -1          -1   \n",
      "u59          -1          -1          -1          -1          -1          -1   \n",
      "\n",
      "     1365711300  1365712200  1365713100  \n",
      "uid                                      \n",
      "u00          -1          -1          -1  \n",
      "u01          -1          -1          -1  \n",
      "u02           0           0          -1  \n",
      "u03          -1          -1          -1  \n",
      "u04          -1          -1          -1  \n",
      "u05          -1          -1          -1  \n",
      "u07          -1          -1          -1  \n",
      "u09          -1          -1          -1  \n",
      "u10          -1          -1          -1  \n",
      "u14          -1          -1          -1  \n",
      "u15          -1          -1          -1  \n",
      "u16          -1          -1          -1  \n",
      "u17          -1          -1          -1  \n",
      "u18          -1          -1          -1  \n",
      "u19          -1          -1          -1  \n",
      "u20          -1          -1          -1  \n",
      "u23          -1          -1          -1  \n",
      "u24          -1          -1          -1  \n",
      "u27          -1          -1          -1  \n",
      "u30          -1          -1          -1  \n",
      "u31          -1          -1          -1  \n",
      "u32          -1          -1          -1  \n",
      "u33          -1          -1          -1  \n",
      "u34          -1          -1          -1  \n",
      "u35          -1          -1          -1  \n",
      "u36          -1          -1          -1  \n",
      "u42          -1          -1          -1  \n",
      "u43          -1          -1          -1  \n",
      "u44          -1          -1          -1  \n",
      "u45          -1          -1          -1  \n",
      "u46          -1          -1          -1  \n",
      "u47          -1          -1          -1  \n",
      "u49          -1          -1          -1  \n",
      "u51          -1          -1          -1  \n",
      "u52          -1          -1          -1  \n",
      "u53          -1          -1          -1  \n",
      "u56          -1          -1          -1  \n",
      "u59          -1          -1          -1  \n",
      "\n",
      "[38 rows x 1508 columns]\n"
     ]
    }
   ],
   "source": [
    "##TAKES LONG TIME TO RUN\n",
    "##TAKES LONG TIME TO RUN\n",
    "##TAKES LONG TIME TO RUN\n",
    "##TAKES LONG TIME TO RUN\n",
    "\n",
    "timeCount = minTime\n",
    "timeLog = pd.DataFrame(index=panas_idx)\n",
    "user_time_iterator = dict.fromkeys(data['activity'].keys(), 0)\n",
    "prev_time = 0\n",
    "\n",
    "while timeCount < maxTime:\n",
    "    timeLog[timeCount] = [-1]*len(panas_idx)\n",
    "    user = 'u02'\n",
    "    #\n",
    "    #for user in panas_idx:\n",
    "    ###\n",
    "    maxTimestampIndex = len(data['activity'][user]['timestamp'])-1\n",
    "    i = user_time_iterator[user]\n",
    "    if i > maxTimestampIndex:\n",
    "        break\n",
    "    i = i+350 #skip some values\n",
    "    if i > maxTimestampIndex:\n",
    "        i = user_time_iterator[user]\n",
    "    next_time = timeCount+FIFTEEN_MIN\n",
    "\n",
    "    while data['activity'][user]['timestamp'][i] < next_time and i < maxTimestampIndex:\n",
    "        i = i+1\n",
    "    segment = data['activity'][user][user_time_iterator[user]:i]\n",
    "    if segment.empty:\n",
    "        break\n",
    "    total = len(segment)\n",
    "    count = segment.groupby(' activity inference').count()\n",
    "    #print(count)\n",
    "    if 0 in count.index:\n",
    "        if count.loc[0]['timestamp']/total > 0.6: #if more than half stationary, not active \n",
    "            #print(\"more than half\")\n",
    "            timeLog.at[user,timeCount] = 0\n",
    "        elif 3 in count.index and (count.loc[0]['timestamp']+count.loc[3]['timestamp'])/total > 0.7:\n",
    "            #print(\"unknown\")\n",
    "            timeLog.at[user,timeCount] = 0\n",
    "        else:\n",
    "            #print(\"active\")\n",
    "            timeLog.at[user,timeCount] = 1\n",
    "    else: #if no stationary, consider as active\n",
    "        #print(\"active\")\n",
    "        timeLog.at[user,timeCount]  = 1\n",
    "    user_time_iterator[user] = i\n",
    "    ###\n",
    "    timeCount = next_time\n",
    "print(timeLog)"
   ]
  },
  {
   "cell_type": "code",
   "execution_count": 224,
   "metadata": {},
   "outputs": [
    {
     "data": {
      "text/plain": [
       "[<matplotlib.lines.Line2D at 0x2239c538f98>]"
      ]
     },
     "execution_count": 224,
     "metadata": {},
     "output_type": "execute_result"
    },
    {
     "data": {
      "image/png": "[encoded data removed]",
      "text/plain": [
       "<matplotlib.figure.Figure at 0x223968936a0>"
      ]
     },
     "metadata": {},
     "output_type": "display_data"
    },
    {
     "data": {
      "image/png": "[encoded data removed]",
      "text/plain": [
       "<matplotlib.figure.Figure at 0x22398937a20>"
      ]
     },
     "metadata": {},
     "output_type": "display_data"
    }
   ],
   "source": [
    "#print(timeLog.loc['u03'].value_counts())\n",
    "WEEK = 7*24*60*60\n",
    "fig = plt.figure(figsize=(20,10))\n",
    "ax2 = fig.add_subplot(111)\n",
    "ax2.set_xlim([1364357000,1364356000+WEEK])\n",
    "ax2.set_ylim([0,2])\n",
    "#for user in panas_idx:\n",
    "ax2.plot(timeLog.columns,timeLog.loc['u02'])\n",
    "\n",
    "fig = plt.figure(figsize=(20,10))\n",
    "ax3 = fig.add_subplot(111)\n",
    "ax3.set_xlim([1364356000+WEEK,1364356000+WEEK+WEEK])\n",
    "ax3.set_ylim([0,2])\n",
    "#for user in panas_idx:\n",
    "ax3.plot(timeLog.columns,timeLog.loc['u02'])\n"
   ]
  },
  {
   "cell_type": "code",
   "execution_count": 161,
   "metadata": {},
   "outputs": [],
   "source": [
    "#est  = 'US/Eastern'\n",
    "#aest = 'Australia/Sydney'\n",
    "#print(data['audio']['u01']['timestamp'][0])\n",
    "#timestamp = datetime.fromtimestamp(data['audio']['u01']['timestamp'][0])\n",
    "#print(timestamp)\n",
    "#print(pytz.timezone(aest).localize(timestamp).astimezone(pytz.timezone(est))) #EST"
   ]
  },
  {
   "cell_type": "code",
   "execution_count": 143,
   "metadata": {},
   "outputs": [
    {
     "data": {
      "image/png": "[encoded data removed]",
      "text/plain": [
       "<matplotlib.figure.Figure at 0x2236bf2a400>"
      ]
     },
     "metadata": {},
     "output_type": "display_data"
    }
   ],
   "source": [
    "## general scatter plot of location data\n",
    "fig = plt.figure()\n",
    "ax1 = fig.add_subplot(111)\n",
    "for user in panas_idx:\n",
    "    ax1.scatter(data['gps'][user][data['gps'][user]['provider']=='gps']['longitude'],data['gps'][user][data['gps'][user]['provider']=='gps']['latitude'])"
   ]
  },
  {
   "cell_type": "code",
   "execution_count": 142,
   "metadata": {},
   "outputs": [
    {
     "name": "stdout",
     "output_type": "stream",
     "text": [
      "    total_distance variance_long variance_lat\n",
      "uid                                          \n",
      "u00        199.852       538.207      2.56981\n",
      "u01       0.999334   1.66114e-05  7.69193e-05\n",
      "u02        2.09003   0.000424847   0.00129598\n",
      "u03       0.523636   3.75658e-05  0.000164154\n",
      "u04        22.2945      0.783075     0.382624\n",
      "u05        3.36038     0.0246078    0.0248407\n",
      "u07         25.153       3.98273    0.0272609\n",
      "u09        8.01062     0.0704198    0.0276078\n",
      "u10      0.0629815   1.16351e-06  2.12789e-06\n",
      "u14        3.83459      0.243644     0.329019\n",
      "u15        12.5733      0.825185      1.64372\n",
      "u16       0.717587   1.66893e-05  0.000395338\n",
      "u17       0.121948   3.38292e-06   2.1497e-06\n",
      "u18        4.01938     0.0456537    0.0482632\n",
      "u19        2.58668    0.00467481   0.00274079\n",
      "u20       0.197588   2.03933e-06  6.15455e-07\n",
      "u23       0.362974   4.86699e-07  2.12998e-07\n",
      "u24       0.142347   5.18793e-05  8.42356e-05\n",
      "u27      0.0395907   1.43509e-06  8.85049e-07\n",
      "u30        27.5261      0.169213     0.740444\n",
      "u31        18.6016       0.13408     0.157764\n",
      "u32        4.50542     0.0336491    0.0498425\n",
      "u33       0.143729   1.25527e-05   1.4129e-06\n",
      "u34        4.60401     0.0006219  0.000989098\n",
      "u35        1.63996   0.000205789  0.000399061\n",
      "u36        112.723       75.2924      1.02006\n",
      "u42        4.25805   0.000735676  0.000639389\n",
      "u43        20.7065      0.270684    0.0882911\n",
      "u44        1.56683   0.000222098  9.04771e-05\n",
      "u45        10.2586    0.00747263   0.00771014\n",
      "u46        4.78662     0.0665964     0.119761\n",
      "u47        1.16392   0.000257993  0.000167515\n",
      "u49        9.47858     0.0179483    0.0263544\n",
      "u51        7.51934     0.0100899     0.208245\n",
      "u52       0.324645   6.50922e-07  5.71709e-07\n",
      "u53        5.42253     0.0723092    0.0481515\n",
      "u56        6.60518    0.00273298    0.0465691\n",
      "u59        48.7694       66.4157      39.8088\n"
     ]
    }
   ],
   "source": [
    "#print(newitem.reset_index())\n",
    "distanceInfo = pd.DataFrame( columns=['total_distance','variance_long','variance_lat'],index=panas_idx)\n",
    "\n",
    "for user in panas_idx:\n",
    "    totalDist = 0\n",
    "    var_long  = 0\n",
    "    var_lat   = 0\n",
    "    gpsProvider = data['gps'][user][ data['gps'][user]['provider'] == 'gps'].reset_index()\n",
    "    prev_long = gpsProvider['longitude'][0]\n",
    "    prev_lat  = gpsProvider['latitude'][0]\n",
    "    mean_long = gpsProvider['longitude'].mean()\n",
    "    mean_lat  = gpsProvider['latitude'].mean()\n",
    "    \n",
    "    for i in range(1,len(gpsProvider)):\n",
    "        longitude = gpsProvider.loc[i]['longitude']\n",
    "        latitude  = gpsProvider.loc[i]['latitude']\n",
    "        var_long  = var_long + (longitude-mean_long)*(longitude-mean_long)\n",
    "        var_lat   = var_lat  + (latitude - mean_lat)*(latitude - mean_lat)\n",
    "        totalDist = totalDist + math.sqrt( (longitude-prev_long)*(longitude-prev_long) + (latitude-prev_lat)*(latitude-prev_lat))\n",
    "        prev_long = longitude\n",
    "        prev_lat  = latitude\n",
    "    distanceInfo.at[user,'total_distance'] = totalDist\n",
    "    distanceInfo.at[user,'variance_long'] = var_long/len(gpsProvider)\n",
    "    distanceInfo.at[user,'variance_lat'] = var_lat/len(gpsProvider)\n",
    "print(distanceInfo)"
   ]
  },
  {
   "cell_type": "code",
   "execution_count": 227,
   "metadata": {},
   "outputs": [],
   "source": [
    "X = {}\n",
    "for sensor in data.keys():\n",
    "    X[sensor] = pd.DataFrame(index=panas_idx)\n",
    "    if sensor == 'activity':\n",
    "        X[sensor][0] = [0.0]*PANAS_LEN\n",
    "        X[sensor][1] = [0.0]*PANAS_LEN\n",
    "        X[sensor][2] = [0.0]*PANAS_LEN\n",
    "        #X[sensor][3] = [0.0]*PANAS_LEN\n",
    "#print(X['activity'])\n",
    "# activity\n",
    "X['gps']['total_distance'] = distanceInfo['total_distance']\n",
    "X['gps']['variance_long'] = distanceInfo['variance_long']\n",
    "X['gps']['variance_lat'] = distanceInfo['variance_lat']\n",
    "for u in (panas_idx):\n",
    "    total = len(data['activity'][u]['timestamp'])\n",
    "    X['activity'].loc[u][0] = data['activity'][u].groupby(' activity inference').count().loc[0]/total\n",
    "    X['activity'].loc[u][1] = data['activity'][u].groupby(' activity inference').count().loc[1]/total\n",
    "    X['activity'].loc[u][2] = data['activity'][u].groupby(' activity inference').count().loc[2]/total\n",
    "    #X['activity'].loc[u][3] = data['activity'][u].groupby(' activity inference').count().loc[3]/total\n",
    "\n"
   ]
  },
  {
   "cell_type": "code",
   "execution_count": 241,
   "metadata": {},
   "outputs": [],
   "source": [
    "Xsubset = X['activity']\n",
    "Xsubset['variance_lat'] = distanceInfo['variance_lat']\n",
    "Xsubset['total_distance'] = distanceInfo['total_distance']\n",
    "Xsubset['variance_long'] = distanceInfo['variance_long']\n",
    "#print(Xsubset)"
   ]
  },
  {
   "cell_type": "code",
   "execution_count": 263,
   "metadata": {},
   "outputs": [],
   "source": [
    "# shuffle?\n",
    "#print(utils.shuffle(X['activity']))\n",
    "shuffled = utils.shuffle(Xsubset)\n",
    "# split train/test\n",
    "X_train = shuffled.iloc[:27,:]\n",
    "X_test = shuffled.iloc[27:,:]\n",
    "y_train = y.loc[X_train.index]\n",
    "y_test = y.loc[X_test.index]\n",
    "#print(len(X_train))\n",
    "#print(y_train)"
   ]
  },
  {
   "cell_type": "code",
   "execution_count": 264,
   "metadata": {},
   "outputs": [
    {
     "name": "stdout",
     "output_type": "stream",
     "text": [
      "27\n",
      "['high' 'high' 'high' 'low' 'high' 'high' 'high' 'low' 'high' 'high'\n",
      " 'high']\n",
      "['high', 'high', 'high', 'low', 'low', 'low', 'high', 'low', 'high', 'high', 'high']\n",
      "0.8181818181818182\n",
      "Optimal number of neighbours is for test is \n",
      "9\n",
      "0.9642857142857143\n"
     ]
    },
    {
     "data": {
      "image/png": "[encoded data removed]",
      "text/plain": [
       "<matplotlib.figure.Figure at 0x2239d7678d0>"
      ]
     },
     "metadata": {},
     "output_type": "display_data"
    }
   ],
   "source": [
    "nbrs = neighbors.KNeighborsClassifier(n_neighbors=2)\n",
    "\n",
    "nbrs.fit(X_train,y_train['post_neg'])\n",
    "y_pred = nbrs.predict(X_test)\n",
    "#print(list(y_test['post_pos']))\n",
    "print(len(y_train))\n",
    "print(y_pred)\n",
    "print(list(y_test['post_neg']))\n",
    "print(metrics.accuracy_score(list(y_test['post_neg']),y_pred))\n",
    "\n",
    "roc_test = []\n",
    "for i in range(1,28):\n",
    "    nbrs = neighbors.KNeighborsClassifier(n_neighbors=i)\n",
    "    nbrs.fit(X_train,y_train['post_neg'])\n",
    "    #print(nbrs.predict(X_test))\n",
    "    test_prob= nbrs.predict_proba(X_test) # \"Classes are ordered by lexicographic order\" ==> (high,low)?\n",
    "    y_test_labels = np.where(y_test['post_neg'] == 'low', 1, 0)\n",
    "    roc_test.append(metrics.roc_auc_score(y_test_labels,test_prob[:,1]))\n",
    "\n",
    "plt.figure()\n",
    "plt.title(\"AUROC against No. of neighbours\")\n",
    "plt.xlabel(\"Number of neighbours\")\n",
    "plt.ylabel(\"AUC-ROC\")\n",
    "plt.plot(range(1,28),roc_test)\n",
    "print(\"Optimal number of neighbours is for test is \")\n",
    "print(roc_test.index(max(roc_test))+1) #index starts from 0\n",
    "print(max(roc_test))"
   ]
  }
 ],
 "metadata": {
  "kernelspec": {
   "display_name": "Python 3",
   "language": "python",
   "name": "python3"
  },
  "language_info": {
   "codemirror_mode": {
    "name": "ipython",
    "version": 3
   },
   "file_extension": ".py",
   "mimetype": "text/x-python",
   "name": "python",
   "nbconvert_exporter": "python",
   "pygments_lexer": "ipython3",
   "version": "3.6.4"
  }
 },
 "nbformat": 4,
 "nbformat_minor": 2
}
